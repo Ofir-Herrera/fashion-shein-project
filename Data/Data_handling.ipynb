{
 "cells": [
  {
   "cell_type": "code",
   "execution_count": 9,
   "metadata": {},
   "outputs": [],
   "source": [
    "import glob\n",
    "import pandas as pd\n",
    "from sklearn import preprocessing"
   ]
  },
  {
   "cell_type": "code",
   "execution_count": 10,
   "metadata": {},
   "outputs": [],
   "source": [
    "def merge_data_frames():\n",
    "    extension = 'csv'\n",
    "    all_filenames = [i for i in glob.glob('*.{}'.format(extension))]\n",
    "    #combine all files in the list\n",
    "    combined_csv = pd.concat([pd.read_csv(f) for f in all_filenames ])\n",
    "    #export to csv\n",
    "    combined_csv.to_csv( \"combined_csv.csv\", index=False, encoding='utf-8-sig')\n",
    "    "
   ]
  },
  {
   "cell_type": "code",
   "execution_count": 11,
   "metadata": {},
   "outputs": [
    {
     "name": "stdout",
     "output_type": "stream",
     "text": [
      "(15792, 57)\n",
      "(15166, 57)\n"
     ]
    }
   ],
   "source": [
    "# merge_data_frames()\n",
    "df=pd.read_csv(\"combined_csv.csv\",index_col=0)\n",
    "print(df.shape)\n",
    "copy=df.drop_duplicates(keep='first',ignore_index=False).copy()\n",
    "print(copy.shape)"
   ]
  },
  {
   "cell_type": "code",
   "execution_count": 12,
   "metadata": {},
   "outputs": [],
   "source": [
    "def fill_empty_values(df):\n",
    "    df.fillna(\"Empty\", inplace=True)\n",
    "fill_empty_values(copy)\n"
   ]
  },
  {
   "cell_type": "code",
   "execution_count": 13,
   "metadata": {},
   "outputs": [],
   "source": [
    "# Because there are few types of details in each item I want to separate the types to diffrent columns. \n",
    "#There are many diffrent details types so I took only over 100 freaqwency types.\n",
    "\n",
    "def divide_details_col():\n",
    "    dictionaroro= {}\n",
    "    sorted_dict={}\n",
    "    list1=[]\n",
    "    for i in copy['Details']:\n",
    "        for j in i.split(', '):\n",
    "            if(j not in dictionaroro.keys()):\n",
    "                dictionaroro[j]=1 \n",
    "            else:\n",
    "                dictionaroro[j]=dictionaroro[j]+1\n",
    "    sorted_keys = sorted(dictionaroro, key=dictionaroro.get,reverse=True)\n",
    "\n",
    "    for w in sorted_keys:\n",
    "        if(dictionaroro[w]>=100 and w!='Empty'):\n",
    "            sorted_dict[w] = dictionaroro[w]\n",
    "            list1.append(w)\n",
    "            \n",
    "    for x in list1:\n",
    "        copy[x]=(copy['Details'].str.contains(x)).astype(int)\n",
    "\n",
    "divide_details_col()"
   ]
  },
  {
   "cell_type": "code",
   "execution_count": 14,
   "metadata": {},
   "outputs": [],
   "source": [
    "def remove_empty_cols(col_list):   \n",
    "    copy.drop(axis=1, index=None, columns=col_list, inplace=True)\n",
    "\n",
    "col_list=['Details','Composition','Mouw lengte','Materiaal','Bra Type','Chest pad','Panty Type','Item NamePrice','Doorzichtig','Arabian Clothing','Care Instructions','Kleur','Lengte','Neklijn','Patroon type','Seizoen','Stijl','Type mouwen','Stof','Type fit']\n",
    "remove_empty_cols(col_list)"
   ]
  },
  {
   "cell_type": "code",
   "execution_count": 18,
   "metadata": {},
   "outputs": [],
   "source": [
    "# filterd all the damaged items (the items with incorrect number reviews)  \n",
    "sum_cols=(copy['1 Star Reviews'] + copy['2 Stars Reviews'] + copy['3 Stars Reviews']+copy['4 Stars Reviews'] + copy['5 Stars Reviews'])\n",
    "copy=copy[~((sum_cols>copy['Reviews Num']) & ((copy['Reviews Num']==copy['1 Star Reviews']) | (copy['Reviews Num']==copy['2 Stars Reviews']) | (copy['Reviews Num']==copy['3 Stars Reviews']) | (copy['Reviews Num']==copy['4 Stars Reviews']) | (copy['Reviews Num']==copy['5 Stars Reviews'])))]"
   ]
  },
  {
   "cell_type": "code",
   "execution_count": 19,
   "metadata": {},
   "outputs": [],
   "source": [
    "# filterd all items with low reviews(less then 50)\n",
    "copy=copy[copy[\"Reviews Num\"] > 50]"
   ]
  },
  {
   "cell_type": "code",
   "execution_count": 20,
   "metadata": {},
   "outputs": [],
   "source": [
    "#save results table \n",
    "copy.to_csv( \"combined_with_classification_2.csv\", index=False, encoding='utf-8-sig')"
   ]
  },
  {
   "cell_type": "code",
   "execution_count": null,
   "metadata": {},
   "outputs": [],
   "source": []
  },
  {
   "cell_type": "code",
   "execution_count": null,
   "metadata": {},
   "outputs": [],
   "source": []
  }
 ],
 "metadata": {
  "kernelspec": {
   "display_name": "Python 3",
   "language": "python",
   "name": "python3"
  },
  "language_info": {
   "codemirror_mode": {
    "name": "ipython",
    "version": 3
   },
   "file_extension": ".py",
   "mimetype": "text/x-python",
   "name": "python",
   "nbconvert_exporter": "python",
   "pygments_lexer": "ipython3",
   "version": "3.8.3"
  }
 },
 "nbformat": 4,
 "nbformat_minor": 4
}
