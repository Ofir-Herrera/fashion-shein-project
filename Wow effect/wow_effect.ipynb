{
 "cells": [
  {
   "cell_type": "code",
   "execution_count": 25,
   "metadata": {},
   "outputs": [],
   "source": [
    "import pandas as pd\n",
    "from bs4 import BeautifulSoup \n",
    "from selenium import webdriver\n",
    "from selenium.webdriver.common.action_chains import ActionChains\n",
    "import re\n",
    "import time\n",
    "import pandas as pd\n",
    "from sklearn import preprocessing\n",
    "from sklearn.preprocessing import StandardScaler, MinMaxScaler\n"
   ]
  },
  {
   "cell_type": "code",
   "execution_count": 2,
   "metadata": {},
   "outputs": [],
   "source": [
    "\n",
    "# URLS\n",
    "shein_home_page_url=\"https://eur.shein.com/\"\n",
    "\n",
    "shein_clothing_url_format=\"https://eur.shein.com/new/New-In-Women-Clothing-sc-00200200.html?ici=eur_tab01navbar01menu06&scici=navbar_WomenHomePage~~tab01navbar01menu06~~1_6~~itemPicking_00200200~~~~0~~50001&srctype=category&userpath=category%3ENEW%20IN%3ENEW%20IN%20CLOTHING&page={0}\"\n",
    "\n",
    "shein_clothing_url=\"https://eur.shein.com/new/New-In-Women-Clothing-sc-00200200.html?ici=eur_tab01navbar01menu06&scici=navbar_WomenHomePage~~tab01navbar01menu06~~1_6~~itemPicking_00200200~~~~0~~50001&srctype=category&userpath=category%3ENEW%20IN%3ENEW%20IN%20CLOTHING\"\n",
    "#CONSTS\n",
    "\n",
    "columns_list=['SKU',\n",
    "                'Item Name',\n",
    "                'Price',\n",
    "                'Points Earnning',\n",
    "                'Style',\n",
    "                'Color',\n",
    "                'Pattern Type',\n",
    "                'Length',\n",
    "                'Type',\n",
    "                'Neckline',\n",
    "                'Sleeve Length',\n",
    "                'Sleeve Type',\n",
    "                'Placket Type',\n",
    "                'Details',\n",
    "                'Season',\n",
    "                'Composition',\n",
    "                'Material',\n",
    "                'Fabric',\n",
    "                'Sheer',\n",
    "                'Fit Type',\n",
    "                'Closure Type',\n",
    "                'Waist Line',\n",
    "                'Panty Type',\n",
    "                'Body',\n",
    "                'Chest pad',\n",
    "                'Bra Type',\n",
    "                'Bottom Type']\n"
   ]
  },
  {
   "cell_type": "code",
   "execution_count": 3,
   "metadata": {},
   "outputs": [],
   "source": [
    "# bs4 is not supporting dinamic data loading, so I had to use selenium web driver \n",
    "# to get the linked javascript to the html's.   \n",
    "driver = webdriver.Chrome(executable_path=r\"C:\\Users\\ofirr\\Documents\\שנה ב'\\מבוא למדעי הנתונים\\Fashion project\\crawling\\chromedriver.exe\")"
   ]
  },
  {
   "cell_type": "code",
   "execution_count": 4,
   "metadata": {},
   "outputs": [],
   "source": [
    "#the function returns the number of pages in the clothings section. \n",
    "def pages_amount():\n",
    "    driver.get(shein_clothing_url)\n",
    "    html=driver.page_source\n",
    "    soup=BeautifulSoup(html)\n",
    "    info=soup.find(\"span\", {\"class\": \"S-pagination__total\"})\n",
    "    pages=info.text\n",
    "    pattern=r\"Total (\\d+) Pages\"\n",
    "    return (int(re.findall(pattern,pages)[0]))\n"
   ]
  },
  {
   "cell_type": "code",
   "execution_count": 5,
   "metadata": {},
   "outputs": [],
   "source": [
    "# the function returns all of the items links from single page (1-40 pages)\n",
    "def get_items_links(shein_page_url):\n",
    "    links=[]\n",
    "    colord_item_format=\"https://eur.shein.com/{0}-p-{1}-cat-1773.html\"\n",
    "    single_item_format=\"https://eur.shein.com{0}\"\n",
    "    driver.get(shein_page_url)\n",
    "    html=driver.page_source\n",
    "    soup=BeautifulSoup(html)\n",
    "    items_info=soup.findAll(\"div\", {\"class\": \"S-product-item__info\"})\n",
    "    for item_info in items_info:\n",
    "        color_container=item_info.find(\"section\",{\"class\": \"S-product-item__relatecolor-container\"})\n",
    "        if(color_container is not None):\n",
    "            for lable in color_container.findAll(\"label\"):\n",
    "                aria=(lable.get(\"aria-label\"))\n",
    "                value=(lable.input.get(\"value\"))\n",
    "                aria=aria.replace(\" \",\"-\")\n",
    "                str1=colord_item_format.format(aria,value)\n",
    "                links.append(str1)\n",
    "                \n",
    "        else: \n",
    "            str2=single_item_format.format(item_info.a.get(\"href\"))\n",
    "            links.append(str2)\n",
    "    return links"
   ]
  },
  {
   "cell_type": "code",
   "execution_count": 6,
   "metadata": {},
   "outputs": [],
   "source": [
    "def get_url_for_each_page(pages_count):\n",
    "    all_products_links=[]\n",
    "    for i in range(1,pages_count):\n",
    "        curr_url=shein_clothing_url_format.format(i)\n",
    "        all_products_links.extend(get_items_links(curr_url)) #appending all lists together from each page\n",
    "    return all_products_links"
   ]
  },
  {
   "cell_type": "code",
   "execution_count": 7,
   "metadata": {},
   "outputs": [],
   "source": [
    "def get_details_from_single_item(item_link):\n",
    "    description_dictionary={}\n",
    "    driver.get(item_link)\n",
    "    html=driver.page_source\n",
    "    soup=BeautifulSoup(html)\n",
    "    \n",
    "    #SKU\n",
    "    SKU=soup.find(\"div\",{\"class\": \"product-intro__head-sku\"})\n",
    "    SKU_text=SKU.text\n",
    "    pattern=r\"SKU: (\\w+)\"\n",
    "    SKU_value=re.findall(pattern,SKU_text)[0]\n",
    "    \n",
    "    #Item Name\n",
    "    \n",
    "    Item_Name=soup.find(\"div\",{\"class\": \"product-intro__head-name\"})\n",
    "    Item_Name_text=Item_Name.text\n",
    "    pattern=r\"\\n\\s+(.*)\\n\"\n",
    "    Item_Name_value=re.findall(pattern,Item_Name_text)[0]\n",
    "    \n",
    "    #Price\n",
    "    price=soup.find(\"div\",{\"class\": \"from\"})\n",
    "    price_text=price.span.text\n",
    "    price_text=price_text.replace(',','.')\n",
    "    price_value=float(price_text[0:-1])\n",
    "    \n",
    "\n",
    "    #Points Earnning\n",
    "    points_earnning=soup.find(\"span\",{\"class\": \"color-orange-tips\"})\n",
    "    if(points_earnning is not None):\n",
    "        points_earnning_text=points_earnning.text\n",
    "        pattern=r\"(\\w+)\"\n",
    "        points_earnning_string=re.findall(pattern,points_earnning_text)[0]\n",
    "        points_earnning_value=int(points_earnning_string)\n",
    "    else:\n",
    "        points_earnning_value=0\n",
    "        \n",
    "    #Description \n",
    "    for i in soup.findAll(\"div\",{\"class\":\"product-intro__description-table-item\"}):\n",
    "        current_key=i.find(\"div\",{\"class\":\"key\"}).text[0:-1]\n",
    "        current_val=i.find(\"div\",{\"class\":\"val\"}).text\n",
    "        description_dictionary[current_key]=current_val\n",
    "        \n",
    "  \n",
    "    \n",
    "    dictionary={'SKU':SKU_value,\n",
    "                'Item Name':Item_Name_value,\n",
    "                'Price':price_value,\n",
    "               }\n",
    "    dictionary.update(description_dictionary)\n",
    "    return(dictionary)"
   ]
  },
  {
   "cell_type": "code",
   "execution_count": 8,
   "metadata": {},
   "outputs": [],
   "source": [
    "def insert_details_to_dataframe(dataframe,details):\n",
    "    print(details)\n",
    "    dataframe=dataframe.append( pd.Series(details), ignore_index=True)\n",
    "    return( dataframe)"
   ]
  },
  {
   "cell_type": "code",
   "execution_count": 9,
   "metadata": {},
   "outputs": [],
   "source": [
    "\n",
    "def build_dataframe_rows(dataframe,all_products_links):\n",
    "    i=0\n",
    "    for link in all_products_links:\n",
    "        i=i+1\n",
    "        item_dictionary=get_details_from_single_item(link)\n",
    "        dataframe=insert_details_to_dataframe(dataframe,item_dictionary)\n",
    "        if((i > 99) and ((i % 100) == 0)):\n",
    "            dataframe.to_csv(\"shein_{0}.csv\".format(i))\n",
    "    return (dataframe)"
   ]
  },
  {
   "cell_type": "code",
   "execution_count": 11,
   "metadata": {},
   "outputs": [],
   "source": [
    "import time\n",
    "\n",
    "def main():\n",
    "\n",
    "    df=pd.DataFrame(columns = columns_list)\n",
    "#     pages_amount=pages_amount()\n",
    "    all_products_links=get_url_for_each_page(2)\n",
    "    df=build_dataframe_rows(df,all_products_links)\n",
    "    df.to_csv(\"Shein_Wow.csv\")\n",
    "    \n",
    "main()"
   ]
  },
  {
   "cell_type": "code",
   "execution_count": 14,
   "metadata": {},
   "outputs": [],
   "source": [
    "df=pd.read_csv(\"Shein_Wow.csv\",index_col=0)\n",
    "copy=df.drop_duplicates(keep='first',ignore_index=False).copy()\n",
    "def fill_empty_values(df):\n",
    "    df.fillna(\"Empty\", inplace=True)\n",
    "fill_empty_values(copy)\n"
   ]
  },
  {
   "cell_type": "code",
   "execution_count": 15,
   "metadata": {},
   "outputs": [],
   "source": [
    "# Because there are few types of details in each item I want to separate the types to diffrent columns. \n",
    "#There are many diffrent details types so I took only over 100 freaqwency types.\n",
    "\n",
    "def divide_details_col():\n",
    "    dictionaroro= {}\n",
    "    sorted_dict={}\n",
    "    list1=[]\n",
    "    for i in copy['Details']:\n",
    "        for j in i.split(', '):\n",
    "            if(j not in dictionaroro.keys()):\n",
    "                dictionaroro[j]=1 \n",
    "            else:\n",
    "                dictionaroro[j]=dictionaroro[j]+1\n",
    "    sorted_keys = sorted(dictionaroro, key=dictionaroro.get,reverse=True)\n",
    "\n",
    "    for w in sorted_keys:\n",
    "        if(dictionaroro[w]>=100 and w!='Empty'):\n",
    "            sorted_dict[w] = dictionaroro[w]\n",
    "            list1.append(w)\n",
    "            \n",
    "    for x in list1:\n",
    "        copy[x]=(copy['Details'].str.contains(x)).astype(int)\n",
    "\n",
    "divide_details_col()"
   ]
  },
  {
   "cell_type": "code",
   "execution_count": 20,
   "metadata": {},
   "outputs": [],
   "source": [
    "def remove_empty_cols(col_list):   \n",
    "    copy.drop(axis=1, index=None, columns=col_list, inplace=True)\n",
    "\n",
    "col_list=['Details','Composition','Bra Type','Chest pad','Panty Type','Arabian Clothing','Care Instructions']\n",
    "remove_empty_cols(col_list)"
   ]
  },
  {
   "cell_type": "code",
   "execution_count": 23,
   "metadata": {},
   "outputs": [
    {
     "data": {
      "text/plain": [
       "3"
      ]
     },
     "execution_count": 23,
     "metadata": {},
     "output_type": "execute_result"
    }
   ],
   "source": [
    "#remove colors with low frequency.\n",
    "val = copy['Color'].value_counts()\n",
    "y = val[val < 30].index\n",
    "copy['Color'] =  copy['Color'].replace({x:'other' for x in y})\n",
    "copy['Color'].nunique()\n",
    "\n",
    "#remove style type with low frequency.\n",
    "val = copy['Style'].value_counts()\n",
    "y = val[val < 30].index\n",
    "copy['Style'] =  copy['Style'].replace({x:'other' for x in y})\n",
    "copy['Style'].nunique()\n"
   ]
  },
  {
   "cell_type": "code",
   "execution_count": 26,
   "metadata": {},
   "outputs": [],
   "source": [
    "def find_string_cols(df):\n",
    "    list_cols=[]\n",
    "    for col in df.columns: \n",
    "        if((df[col].dtype=='object') and (col not in ['SKU','Item Name','Details'])):\n",
    "            list_cols.append(col)\n",
    "    return list_cols\n",
    "def encode_string_cols(df,list_cols):\n",
    "    le = preprocessing.LabelEncoder()\n",
    "\n",
    "    for col in list_cols:\n",
    "        df[col].fillna(\"Empty\", inplace=True)\n",
    "        df[col] = le.fit_transform(df[col])\n",
    "    return df,le\n",
    "copy,le=encode_string_cols(copy,find_string_cols(copy))"
   ]
  },
  {
   "cell_type": "code",
   "execution_count": 27,
   "metadata": {},
   "outputs": [],
   "source": [
    "copy.to_csv( \"Shein_Wow_Data.csv\", index=False, encoding='utf-8-sig')"
   ]
  },
  {
   "cell_type": "code",
   "execution_count": null,
   "metadata": {},
   "outputs": [],
   "source": []
  }
 ],
 "metadata": {
  "kernelspec": {
   "display_name": "Python 3",
   "language": "python",
   "name": "python3"
  },
  "language_info": {
   "codemirror_mode": {
    "name": "ipython",
    "version": 3
   },
   "file_extension": ".py",
   "mimetype": "text/x-python",
   "name": "python",
   "nbconvert_exporter": "python",
   "pygments_lexer": "ipython3",
   "version": "3.8.3"
  }
 },
 "nbformat": 4,
 "nbformat_minor": 4
}
