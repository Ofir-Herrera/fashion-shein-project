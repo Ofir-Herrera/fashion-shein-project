{
 "cells": [
  {
   "cell_type": "code",
   "execution_count": 124,
   "metadata": {},
   "outputs": [],
   "source": [
    "\n",
    "import pandas as pd\n",
    "import numpy as np\n",
    "import os\n",
    "import sklearn\n",
    "from sklearn.preprocessing import StandardScaler, MinMaxScaler\n",
    "from sklearn.linear_model import LogisticRegression\n",
    "from sklearn.model_selection import train_test_split\n",
    "import seaborn as sns\n",
    "import matplotlib.pyplot as plt\n",
    "%matplotlib inline\n",
    "from sklearn.metrics import r2_score, f1_score\n",
    "# --------cross-validation\n",
    "from sklearn.model_selection import cross_val_score\n",
    "from sklearn.model_selection import GridSearchCV\n",
    "# -------- classification\n",
    "import sklearn\n",
    "from sklearn import neighbors, naive_bayes, svm\n",
    "# *** SVM classifier\n",
    "from sklearn.svm import SVC\n",
    "# --------  metrics:\n",
    "from sklearn import metrics\n",
    "from sklearn.metrics import accuracy_score, precision_score, recall_score, f1_score, confusion_matrix\n",
    "from sklearn.metrics import make_scorer\n",
    "from sklearn.ensemble import RandomForestClassifier, VotingClassifier"
   ]
  },
  {
   "cell_type": "code",
   "execution_count": 126,
   "metadata": {},
   "outputs": [],
   "source": [
    "#split the data to train and test\n",
    "X_train,X_test,y_train,y_test = train_test_split(X,y,test_size=0.2)"
   ]
  },
  {
   "cell_type": "code",
   "execution_count": 125,
   "metadata": {},
   "outputs": [],
   "source": [
    "\n",
    "def load_dataset(file_name, target_column):\n",
    "    df=pd.read_csv(file_name)\n",
    "    TRAINING_FEATURES = df.columns[(df.columns != target_column) & (df.columns!='SKU')& (df.columns!='Item Name')]\n",
    "\n",
    "    X = df[TRAINING_FEATURES]\n",
    "    y = df[target_column]\n",
    "    return X, y\n",
    "\n",
    "file_name='../EDA/SheinData.csv'\n",
    "X,y=load_dataset(file_name, 'Classification')"
   ]
  },
  {
   "cell_type": "code",
   "execution_count": 127,
   "metadata": {},
   "outputs": [],
   "source": [
    "#random forest model\n",
    "def find_best_random_forest_num_estimators(X_train, y_train):\n",
    "    parameters = {'n_estimators':[15,10] }\n",
    "    rf = RandomForestClassifier()\n",
    "    clf = GridSearchCV(rf, parameters,scoring=make_scorer(metrics.f1_score, greater_is_better=True))\n",
    "    #fit\n",
    "    clf.fit(X_train, y_train)\n",
    "    return clf\n",
    "\n",
    "#predict\n",
    "Random_Forest=find_best_random_forest_num_estimators(X_train, y_train)"
   ]
  },
  {
   "cell_type": "code",
   "execution_count": 128,
   "metadata": {},
   "outputs": [
    {
     "name": "stdout",
     "output_type": "stream",
     "text": [
      "0.8951612903225806\n"
     ]
    }
   ],
   "source": [
    "print(f1_score(y_test,Random_Forest.predict(X_test)))"
   ]
  },
  {
   "cell_type": "code",
   "execution_count": 129,
   "metadata": {},
   "outputs": [
    {
     "name": "stdout",
     "output_type": "stream",
     "text": [
      "0.8070562293274531\n"
     ]
    }
   ],
   "source": [
    "#svm model\n",
    "clf=svm.SVC(probability=True)\n",
    "#fit(train)\n",
    "clf.fit(X_train, y_train)\n",
    "\n",
    "#predict\n",
    "predict=clf.predict(X_test)\n",
    "\n",
    "#evaluate\n",
    "print(f1_score(y_test,predict))\n"
   ]
  },
  {
   "cell_type": "code",
   "execution_count": 130,
   "metadata": {},
   "outputs": [
    {
     "name": "stdout",
     "output_type": "stream",
     "text": [
      "0.788627935723115\n"
     ]
    }
   ],
   "source": [
    "#logistic regration model\n",
    "\n",
    "#fit(train)\n",
    "def train_by_logistic(X_train, y_train):\n",
    "    trained_LogisticRegression=LogisticRegression(max_iter=10000,solver=\"lbfgs\")\n",
    "    trained_LogisticRegression.fit(X_train, y_train)\n",
    "    return trained_LogisticRegression\n",
    "\n",
    "logistic_model=train_by_logistic(X_train, y_train)\n",
    "\n",
    "#predict\n",
    "def predict_by_logistic(trained_2nd_model, X_test):\n",
    "    predicted_vals=trained_2nd_model.predict(X_test)\n",
    "    return predicted_vals\n",
    "\n",
    "predict_model=predict_by_logistic(logistic_model, X_test)\n",
    "\n",
    "#evaluate\n",
    "def evaluate_performance_by_logistic(y_test,y_predicted):\n",
    "    evaluate_value=f1_score(y_test, y_predicted)\n",
    "    return evaluate_value\n",
    "\n",
    "print(evaluate_performance_by_logistic(y_test,predict_model))"
   ]
  },
  {
   "cell_type": "code",
   "execution_count": 131,
   "metadata": {},
   "outputs": [
    {
     "name": "stdout",
     "output_type": "stream",
     "text": [
      "0.8847583643122676\n"
     ]
    }
   ],
   "source": [
    "#ensembel\n",
    "trained_LogisticRegression=LogisticRegression(max_iter=10000,solver=\"lbfgs\")\n",
    "rf = RandomForestClassifier(n_estimators=50, random_state=1)\n",
    "clf=svm.SVC(probability=True)    \n",
    "est_Ensemble = VotingClassifier(estimators=[('SVM', clf),\n",
    "                                            ('Logistic Regression', trained_LogisticRegression),\n",
    "                                            ('Random Forest', rf)],\n",
    "                                voting='soft',\n",
    "                                weights=[1,1,1])\n",
    "est_Ensemble .fit(X_train, y_train)\n",
    "y_predicted=est_Ensemble.predict(X_test)\n",
    "print(f1_score(y_test, y_predicted))"
   ]
  },
  {
   "cell_type": "code",
   "execution_count": 148,
   "metadata": {},
   "outputs": [],
   "source": [
    "df=pd.read_csv('../Wow effect/Shein_Wow_Data.csv')\n",
    "df2=df.copy()\n"
   ]
  },
  {
   "cell_type": "code",
   "execution_count": 149,
   "metadata": {},
   "outputs": [],
   "source": [
    "missing_cols = set( X_train.columns ) - set(df.columns )\n",
    "for c in missing_cols:\n",
    "    df[c] = 0\n",
    "df = df[X_train.columns]\n",
    "TRAINING_FEATURES = df.columns[(df.columns!='SKU')& (df.columns!='Item Name')]\n",
    "\n",
    "y_predicted=est_Ensemble.predict(df[TRAINING_FEATURES])"
   ]
  },
  {
   "cell_type": "code",
   "execution_count": 150,
   "metadata": {},
   "outputs": [],
   "source": [
    "df2['Model Prediction']=y_predicted"
   ]
  },
  {
   "cell_type": "code",
   "execution_count": 152,
   "metadata": {},
   "outputs": [],
   "source": [
    "df2.to_csv(\"Wow Prediction.csv\" ,index=False, encoding='utf-8-sig')"
   ]
  },
  {
   "cell_type": "code",
   "execution_count": null,
   "metadata": {},
   "outputs": [],
   "source": []
  }
 ],
 "metadata": {
  "kernelspec": {
   "display_name": "Python 3",
   "language": "python",
   "name": "python3"
  },
  "language_info": {
   "codemirror_mode": {
    "name": "ipython",
    "version": 3
   },
   "file_extension": ".py",
   "mimetype": "text/x-python",
   "name": "python",
   "nbconvert_exporter": "python",
   "pygments_lexer": "ipython3",
   "version": "3.8.3"
  }
 },
 "nbformat": 4,
 "nbformat_minor": 4
}
